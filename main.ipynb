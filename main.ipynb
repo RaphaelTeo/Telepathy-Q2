{
 "cells": [
  {
   "cell_type": "code",
   "execution_count": 43,
   "metadata": {},
   "outputs": [
    {
     "name": "stdout",
     "output_type": "stream",
     "text": [
      "Numbers: [1, 2, 3, 4, 5, 6, 7, 5]\n",
      "Initialise bst: {0: {'value': 1}}\n",
      "\n",
      "=====\n",
      "ID: 1 | Value: 4\n",
      "Starting with origin node\n",
      "-----\n",
      "Node 0: {'value': 1}\n",
      "Go to right_child\n",
      "Filled right_child of {'value': 1, 'right_child': 1}, BST updated with id 1: {'value': 4}\n",
      "\n",
      "=====\n",
      "ID: 2 | Value: 7\n",
      "Starting with origin node\n",
      "-----\n",
      "Node 0: {'value': 1, 'right_child': 1}\n",
      "Go to right_child\n",
      "Selected child for next iteration with ID: 1\n",
      "-----\n",
      "Node 1: {'value': 4}\n",
      "Go to right_child\n",
      "Filled right_child of {'value': 4, 'right_child': 2}, BST updated with id 2: {'value': 7}\n",
      "\n",
      "=====\n",
      "ID: 3 | Value: 6\n",
      "Starting with origin node\n",
      "-----\n",
      "Node 0: {'value': 1, 'right_child': 1}\n",
      "Go to right_child\n",
      "Selected child for next iteration with ID: 1\n",
      "-----\n",
      "Node 1: {'value': 4, 'right_child': 2}\n",
      "Go to right_child\n",
      "Selected child for next iteration with ID: 2\n",
      "-----\n",
      "Node 2: {'value': 7}\n",
      "Go to left_child\n",
      "Filled left_child of {'value': 7, 'left_child': 3}, BST updated with id 3: {'value': 6}\n",
      "\n",
      "=====\n",
      "ID: 4 | Value: 3\n",
      "Starting with origin node\n",
      "-----\n",
      "Node 0: {'value': 1, 'right_child': 1}\n",
      "Go to right_child\n",
      "Selected child for next iteration with ID: 1\n",
      "-----\n",
      "Node 1: {'value': 4, 'right_child': 2}\n",
      "Go to left_child\n",
      "Filled left_child of {'value': 4, 'right_child': 2, 'left_child': 4}, BST updated with id 4: {'value': 3}\n",
      "\n",
      "=====\n",
      "ID: 5 | Value: 2\n",
      "Starting with origin node\n",
      "-----\n",
      "Node 0: {'value': 1, 'right_child': 1}\n",
      "Go to right_child\n",
      "Selected child for next iteration with ID: 1\n",
      "-----\n",
      "Node 1: {'value': 4, 'right_child': 2, 'left_child': 4}\n",
      "Go to left_child\n",
      "Selected child for next iteration with ID: 4\n",
      "-----\n",
      "Node 4: {'value': 3}\n",
      "Go to left_child\n",
      "Filled left_child of {'value': 3, 'left_child': 5}, BST updated with id 5: {'value': 2}\n",
      "\n",
      "=====\n",
      "ID: 6 | Value: 5\n",
      "Starting with origin node\n",
      "-----\n",
      "Node 0: {'value': 1, 'right_child': 1}\n",
      "Go to right_child\n",
      "Selected child for next iteration with ID: 1\n",
      "-----\n",
      "Node 1: {'value': 4, 'right_child': 2, 'left_child': 4}\n",
      "Go to right_child\n",
      "Selected child for next iteration with ID: 2\n",
      "-----\n",
      "Node 2: {'value': 7, 'left_child': 3}\n",
      "Go to left_child\n",
      "Selected child for next iteration with ID: 3\n",
      "-----\n",
      "Node 3: {'value': 6}\n",
      "Go to left_child\n",
      "Filled left_child of {'value': 6, 'left_child': 6}, BST updated with id 6: {'value': 5}\n",
      "\n",
      "=====\n",
      "ID: 7 | Value: 5\n",
      "Starting with origin node\n",
      "-----\n",
      "Node 0: {'value': 1, 'right_child': 1}\n",
      "Go to right_child\n",
      "Selected child for next iteration with ID: 1\n",
      "-----\n",
      "Node 1: {'value': 4, 'right_child': 2, 'left_child': 4}\n",
      "Go to right_child\n",
      "Selected child for next iteration with ID: 2\n",
      "-----\n",
      "Node 2: {'value': 7, 'left_child': 3}\n",
      "Go to left_child\n",
      "Selected child for next iteration with ID: 3\n",
      "-----\n",
      "Node 3: {'value': 6, 'left_child': 6}\n",
      "Go to left_child\n",
      "Selected child for next iteration with ID: 6\n",
      "-----\n",
      "Node 6: {'value': 5}\n",
      "Go to left_child\n",
      "Filled left_child of {'value': 5, 'left_child': 7}, BST updated with id 7: {'value': 5}\n"
     ]
    },
    {
     "data": {
      "text/plain": [
       "{0: {'value': 1, 'right_child': 1},\n",
       " 1: {'value': 4, 'right_child': 2, 'left_child': 4},\n",
       " 2: {'value': 7, 'left_child': 3},\n",
       " 3: {'value': 6, 'left_child': 6},\n",
       " 4: {'value': 3, 'left_child': 5},\n",
       " 5: {'value': 2},\n",
       " 6: {'value': 5, 'left_child': 7},\n",
       " 7: {'value': 5}}"
      ]
     },
     "execution_count": 43,
     "metadata": {},
     "output_type": "execute_result"
    }
   ],
   "source": [
    "'''\n",
    "FLAT DICT\n",
    "#bst = {id1:{}, id2:{}, ...}\n",
    "# id: {value:x, left_child:y, right_child:z}\n",
    "'''\n",
    "import random\n",
    "numbers_list = [i for i in range(1,8)]\n",
    "numbers_list.append(5)\n",
    "len_of_list = len(numbers_list)\n",
    "child_dict = {True:'left_child', False:'right_child'}\n",
    "print(f'Numbers: {numbers_list}')\n",
    "\n",
    "def select_child(child_dict, node_value, new_value):\n",
    "    return child_dict.pop(new_value <= node_value), child_dict[list(child_dict.keys())[0]]\n",
    "\n",
    "# Initialise with 1 value\n",
    "first_id = 0\n",
    "first_value = numbers_list.pop(random.choice(range(0,len(numbers_list)))) #.pop(3)\n",
    "bst = {first_id:{'value':first_value}\n",
    "       }\n",
    "print(f'Initialise bst: {bst}')\n",
    "\n",
    "for id in range(first_id+1, first_id+len_of_list): # to cater for custom first_ids\n",
    "\n",
    "    value = numbers_list.pop(random.choice(range(0,len(numbers_list))))\n",
    "    print(f'\\n=====\\nID: {id} | Value: {value}')\n",
    "\n",
    "    # Start with the first node\n",
    "    parent_id = first_id\n",
    "    print('Starting with origin node')\n",
    "\n",
    "    while True: # loop to keep exploring inner nodes\n",
    "\n",
    "        node = bst[parent_id]\n",
    "        print(f'-----\\nNode {parent_id}: {node}')\n",
    "        child_dict = {True:'left_child', False:'right_child'}\n",
    "        child_select, child_other = select_child(child_dict, node['value'], value)\n",
    "        print(f'Go to {child_select}')\n",
    "\n",
    "        if node.get(child_select, 'empty') == 'empty': # fill the child and create new node\n",
    "            node[child_select] = id\n",
    "            bst[id] = {'value':value}\n",
    "            print(f'Filled {child_select} of {node}, BST updated with id {id}: {bst[id]}')\n",
    "            break # move on to the next value\n",
    "\n",
    "        else: # select the child for the next iteration\n",
    "            parent_id = node.get(child_select) # node = bst[node[child_select]]\n",
    "            print(f'Selected child for next iteration with ID: {parent_id}')\n",
    "            \n",
    "bst\n"
   ]
  },
  {
   "cell_type": "code",
   "execution_count": 27,
   "metadata": {},
   "outputs": [
    {
     "name": "stdout",
     "output_type": "stream",
     "text": [
      "yes no\n"
     ]
    }
   ],
   "source": [
    "'''\n",
    "WORKING\n",
    "'''\n",
    "\n",
    "# Conventional function to select child\n",
    "def select_child(node_value, new_value):\n",
    "    if new_value <= node_value:\n",
    "        child_select = 'left_child'\n",
    "    else:\n",
    "        child_select = 'right_child'\n",
    "    return child_select\n",
    "\n",
    "# Demo of streamlined way. Wrap inside a function to protect the original dict\n",
    "temp = {True:'yes', False:'no'}\n",
    "a, b = temp.pop(True), temp[list(temp.keys())[0]]\n",
    "print(a,b)\n"
   ]
  },
  {
   "cell_type": "code",
   "execution_count": null,
   "metadata": {},
   "outputs": [],
   "source": []
  },
  {
   "cell_type": "code",
   "execution_count": null,
   "metadata": {},
   "outputs": [],
   "source": []
  },
  {
   "cell_type": "code",
   "execution_count": null,
   "metadata": {},
   "outputs": [],
   "source": [
    "'''\n",
    "WORKING\n",
    "USING NESTED STYLE AND MISC WORKING\n",
    "'''"
   ]
  },
  {
   "cell_type": "code",
   "execution_count": 53,
   "metadata": {},
   "outputs": [
    {
     "data": {
      "text/plain": [
       "[1, 2, 3, 4, 5, 6, 7]"
      ]
     },
     "execution_count": 53,
     "metadata": {},
     "output_type": "execute_result"
    }
   ],
   "source": [
    "start_level = 0\n",
    "start_col = 0\n",
    "numbers_list = [i for i in range(1,8)]\n",
    "numbers_list"
   ]
  },
  {
   "cell_type": "code",
   "execution_count": 33,
   "metadata": {},
   "outputs": [],
   "source": [
    "#bst = {'0-0':1}\n",
    "bst = {}\n",
    "onelegged_nodes = []"
   ]
  },
  {
   "cell_type": "code",
   "execution_count": 43,
   "metadata": {},
   "outputs": [
    {
     "data": {
      "text/plain": [
       "{8: [{}, {}]}"
      ]
     },
     "execution_count": 43,
     "metadata": {},
     "output_type": "execute_result"
    }
   ],
   "source": [
    "tt = {8:[{},{}]}\n",
    "parval = list(tt.keys())[0]\n",
    "par = tt[parval][0]\n",
    "par = {4:[{},{}]}\n",
    "tt"
   ]
  },
  {
   "cell_type": "code",
   "execution_count": null,
   "metadata": {},
   "outputs": [],
   "source": [
    "bst = {}\n",
    "numbers_list = [i for i in range(1,4)]\n",
    "\n",
    "# initialise with first node\n",
    "first_no = numbers_list.pop(3)\n",
    "bst = {first_no:[{},{}]}\n",
    "\n",
    "while len(numbers_list) >0:\n",
    "    \n",
    "    no = numbers_list.pop(random.choice(range(0,len(numbers_list))))\n",
    "    print(no)\n",
    "\n",
    "    # Search through onelegged_nodes first\n",
    "    #for each_onelegged_node in onelegged_nodes:\n",
    "\n",
    "    parent = bst # functionalise this. make sure everything is in the same object.\n",
    "\n",
    "    while True: # keep going down until a suitable spot is found\n",
    "        parent_value = list(parent.keys())[0]\n",
    "        path = [parent_value]\n",
    "        \n",
    "        # Go down to the next level\n",
    "        child_direction = compare(parent_value, no) # compare values to decide whether to go left or right\n",
    "        child = parent[parent_value][child_direction] # list(parent.keys())[0] gives the key value of the parent. Then parent[key] gives the value, which is a list. Then use indexing to select left or right child \n",
    "        other_child = parent[parent_value][int(not child_direction)] # the other direction\n",
    "        \n",
    "        # check if other node is empty. If so, track path of the parent and move it to the one-legged stack\n",
    "        if len(list(other_child.keys())) == 0:\n",
    "            onelegged_nodes.append(path) # check where this is supposed to be\n",
    "\n",
    "        # if child node is empty, good. insert value and move on\n",
    "        if len(list(child.keys())) == 0:\n",
    "            # insert the new node\n",
    "            parent[parent_value][child_direction] = {no:[{},{}]}\n",
    "\n",
    "            break\n",
    "\n",
    "        else:\n",
    "            # go down to the next level\n",
    "            parent = child\n",
    "            continue #???\n",
    "\n",
    "        \n",
    "\n",
    "        dict_entry = {no:[]}\n",
    "        bst[no].append(dict_entry)\n",
    "        bst\n"
   ]
  },
  {
   "attachments": {},
   "cell_type": "markdown",
   "metadata": {},
   "source": [
    "### Old notes\n",
    "- Initialise the BST with the first value, and initialise path tracking\n",
    "- Pop a random value from the list of values\n",
    "- Check against the current node (parent). If first step: top of the tree. Update path tracking\n",
    "- Move down to the left or right child depending on value comparison\n",
    "- Check if the other child node is empty. If so, add the parent node to the one-legged stack by using the path tracking\n",
    "- \n",
    "\n",
    "- If nodes are filled, update path tracking with \n",
    "- how to add the nodes in a nested node??\n",
    "\n",
    "If we go by position of the tree, then finding a suitable number, we still cannot guarantee a perfectly balanced BST. This is where Method 2 for a perfect tree comes in."
   ]
  },
  {
   "cell_type": "code",
   "execution_count": 39,
   "metadata": {},
   "outputs": [
    {
     "data": {
      "text/plain": [
       "{1: ['new', {3: []}]}"
      ]
     },
     "execution_count": 39,
     "metadata": {},
     "output_type": "execute_result"
    }
   ],
   "source": [
    "testbst = {1:[{},{3:[]}]}\n",
    "testbst[1][0] = 'new'\n",
    "testbst\n"
   ]
  },
  {
   "cell_type": "code",
   "execution_count": 7,
   "metadata": {},
   "outputs": [
    {
     "data": {
      "text/plain": [
       "{2: []}"
      ]
     },
     "execution_count": 7,
     "metadata": {},
     "output_type": "execute_result"
    }
   ],
   "source": [
    "bst = {1:[{2:[]},{3:[]}]}\n",
    "\n",
    "path = []\n",
    "\n",
    "# left_child = 0, right_child = 1\n",
    "parent = bst\n",
    "# get left child\n",
    "child_direction = 0\n",
    "child = parent[list(parent.keys())[0]][child_direction] # list(parent.keys())[0] gives the key value of the parent. Then parent[key] gives the value, which is a list. Then use indexing to select left or right child \n",
    "path.append(child_direction)\n",
    "child\n"
   ]
  },
  {
   "cell_type": "code",
   "execution_count": 40,
   "metadata": {},
   "outputs": [
    {
     "name": "stdout",
     "output_type": "stream",
     "text": [
      "dict_items([(1, [{2: 'a'}, {3: 'b'}])])\n"
     ]
    }
   ],
   "source": [
    "print(bst.items())"
   ]
  },
  {
   "cell_type": "code",
   "execution_count": 16,
   "metadata": {},
   "outputs": [
    {
     "data": {
      "text/plain": [
       "1"
      ]
     },
     "execution_count": 16,
     "metadata": {},
     "output_type": "execute_result"
    }
   ],
   "source": [
    "empty = {1:[{},{}]}\n",
    "len(list(empty.keys()))"
   ]
  },
  {
   "cell_type": "code",
   "execution_count": 31,
   "metadata": {},
   "outputs": [
    {
     "data": {
      "text/plain": [
       "0"
      ]
     },
     "execution_count": 31,
     "metadata": {},
     "output_type": "execute_result"
    }
   ],
   "source": [
    "chd = empty[list(empty.keys())[0]][1]\n",
    "len(list(chd.keys()))\n",
    "#int(not len(list(chd.keys())))"
   ]
  },
  {
   "cell_type": "code",
   "execution_count": 44,
   "metadata": {},
   "outputs": [],
   "source": [
    "'''\n",
    "Using Classes\n",
    "'''\n",
    "\n",
    "class Node:\n",
    "    def __init__(self, value):\n",
    "        self.value = value\n",
    "        self.left = ''\n",
    "        self.right = ''"
   ]
  },
  {
   "cell_type": "code",
   "execution_count": 51,
   "metadata": {},
   "outputs": [
    {
     "data": {
      "text/plain": [
       "{8: <__main__.Node at 0x2d2ae398ed0>}"
      ]
     },
     "execution_count": 51,
     "metadata": {},
     "output_type": "execute_result"
    }
   ],
   "source": [
    "classtestdict = {8: Node(8)}\n",
    "classtestdict"
   ]
  },
  {
   "cell_type": "code",
   "execution_count": 54,
   "metadata": {},
   "outputs": [
    {
     "data": {
      "text/plain": [
       "<__main__.Node at 0x2d2ae398ed0>"
      ]
     },
     "execution_count": 54,
     "metadata": {},
     "output_type": "execute_result"
    }
   ],
   "source": [
    "classtestdict[8]\n",
    "testval = list(classtestdict.keys())[0]\n",
    "classtestdict[testval]"
   ]
  }
 ],
 "metadata": {
  "kernelspec": {
   "display_name": "Python 3",
   "language": "python",
   "name": "python3"
  },
  "language_info": {
   "codemirror_mode": {
    "name": "ipython",
    "version": 3
   },
   "file_extension": ".py",
   "mimetype": "text/x-python",
   "name": "python",
   "nbconvert_exporter": "python",
   "pygments_lexer": "ipython3",
   "version": "3.11.2"
  },
  "orig_nbformat": 4
 },
 "nbformat": 4,
 "nbformat_minor": 2
}
